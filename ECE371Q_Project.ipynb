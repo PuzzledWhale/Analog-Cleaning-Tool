{
 "cells": [
  {
   "cell_type": "code",
   "execution_count": 1,
   "metadata": {
    "executionInfo": {
     "elapsed": 385,
     "status": "ok",
     "timestamp": 1699824617045,
     "user": {
      "displayName": "David Li",
      "userId": "11030773396771510262"
     },
     "user_tz": 360
    },
    "id": "mYlD8eYhXxNw"
   },
   "outputs": [],
   "source": [
    "import numpy as np\n",
    "import cv2\n",
    "\n",
    "\n",
    "import torch\n",
    "import torch.nn as nn\n",
    "import torch.nn.functional as F\n",
    "\n",
    "import torch.optim as optim\n",
    "\n",
    "from torch.utils.data import Dataset\n",
    "from torch.utils.data import DataLoader\n",
    "from torch.utils.data.sampler import SubsetRandomSampler\n",
    "\n",
    "\n",
    "import torchvision\n",
    "from torchvision import transforms\n",
    "from torchvision import datasets\n",
    "from torchvision import transforms\n",
    "\n",
    "\n",
    "\n",
    "# Loss Function: SSIM\n",
    "# Activation Function: ReLu\n",
    "\n",
    "# TODO:\n",
    "# input: 640 x 480\n",
    "# output: 1920 x 1440"
   ]
  },
  {
   "cell_type": "code",
   "execution_count": 2,
   "metadata": {
    "executionInfo": {
     "elapsed": 109,
     "status": "ok",
     "timestamp": 1699824211646,
     "user": {
      "displayName": "David Li",
      "userId": "11030773396771510262"
     },
     "user_tz": 360
    },
    "id": "Op1dEZ7HqIwB"
   },
   "outputs": [],
   "source": [
    "BATCH_SIZE = 100\n",
    "LEARNING_RATE = 0.01\n",
    "MOMENTUM = 0.9\n",
    "NUM_WORKERS = 8\n",
    "INPUT_DIRECTORY = 'temp/input'\n",
    "TRUTH_DIRECTORY = 'temp/truth'"
   ]
  },
  {
   "cell_type": "markdown",
   "metadata": {
    "id": "b-MeB2PWsZVO"
   },
   "source": [
    "# Data Generation"
   ]
  },
  {
   "cell_type": "code",
   "execution_count": 3,
   "metadata": {
    "executionInfo": {
     "elapsed": 211,
     "status": "ok",
     "timestamp": 1699824429915,
     "user": {
      "displayName": "David Li",
      "userId": "11030773396771510262"
     },
     "user_tz": 360
    },
    "id": "m6arXK1-SmIi"
   },
   "outputs": [],
   "source": [
    "def get_data_paths(input_dir, ground_dir, num_frames):\n",
    "    data_paths = []\n",
    "    for i in range (1, num_frames - 1):\n",
    "        data_paths.append([\n",
    "            input_dir + str(i-1) + '.jpg',\n",
    "            input_dir + str(i) + '.jpg',\n",
    "            input_dir + str(i+1) + '.jpg',\n",
    "            ground_dir + str(i) + '.jpg'\n",
    "        ])\n",
    "    return data_paths"
   ]
  },
  {
   "cell_type": "code",
   "execution_count": 4,
   "metadata": {
    "executionInfo": {
     "elapsed": 119,
     "status": "ok",
     "timestamp": 1699824431731,
     "user": {
      "displayName": "David Li",
      "userId": "11030773396771510262"
     },
     "user_tz": 360
    },
    "id": "xmeWClg3Ywux"
   },
   "outputs": [],
   "source": [
    "def get_tensor(path):\n",
    "    image_rgb = cv2.imread(path)\n",
    "    image_YCrCb = cv2.cvtColor(image_rgb, cv2.COLOR_BGR2YCrCb)\n",
    "    image_tensor = torch.tensor(image_YCrCb, dtype=torch.float32)\n",
    "    image_tensor = image_tensor / 255.0\n",
    "    return image_tensor"
   ]
  },
  {
   "cell_type": "code",
   "execution_count": 6,
   "metadata": {
    "colab": {
     "base_uri": "https://localhost:8080/"
    },
    "executionInfo": {
     "elapsed": 142,
     "status": "ok",
     "timestamp": 1699824433087,
     "user": {
      "displayName": "David Li",
      "userId": "11030773396771510262"
     },
     "user_tz": 360
    },
    "id": "bPPvEU4Ih-ds",
    "outputId": "ec7fb35c-0e45-4368-99f5-f0d0f8ad0e85"
   },
   "outputs": [],
   "source": [
    "class VHSDataSet(Dataset):\n",
    "    def __init__(self, data_paths, transform=None):\n",
    "        self.data_paths = data_paths\n",
    "        self.transform = transform\n",
    "\n",
    "    def __len__(self):\n",
    "        return len(self.data_paths)\n",
    "\n",
    "    def __getitem__(self, idx):\n",
    "        tensors = []\n",
    "        for i in range(4):\n",
    "            tensors.append(get_tensor(self.data_paths[idx][i]))\n",
    "\n",
    "        stacked_frames_tensor = torch.cat([tensors[0], tensors[1], tensors[2]], dim=0)\n",
    "        ground_truth_tensor = tensors[3]\n",
    "        return stacked_frames_tensor, ground_truth_tensor"
   ]
  },
  {
   "cell_type": "code",
   "execution_count": null,
   "metadata": {
    "id": "hifsfEWCpyvN"
   },
   "outputs": [],
   "source": [
    "# Create a DataLoader instance for training\n",
    "\n",
    "data_paths = get_data_paths(INPUT_DIRECTORY, TRUTH_DIRECTORY, 2400)\n",
    "dataset = VHSDataSet(data_paths)\n",
    "dataloader = DataLoader(dataset, batch_size=BATCH_SIZE, shuffle=True, num_workers=NUM_WORKERS)"
   ]
  },
  {
   "cell_type": "markdown",
   "metadata": {
    "id": "lO62Y95Mu0p3"
   },
   "source": [
    "# Training"
   ]
  },
  {
   "cell_type": "code",
   "execution_count": 7,
   "metadata": {
    "id": "4V39Nv5OK45V"
   },
   "outputs": [],
   "source": [
    "class ResNet(nn.Module):\n",
    "    def __init__(self, block, layers, num_classes=1000):\n",
    "        super(ResNet, self).__init()\n",
    "        self.in_channels = 64\n",
    "        self.conv1 = nn.Conv3d(3, 64, kernel_size=8, stride=2, padding=3, bias=False)\n",
    "        self.bn1 = nn.BatchNorm2d(64)\n",
    "        self.relu = nn.ReLU(inplace=True)\n",
    "        self.maxpool = nn.MaxPool2d(kernel_size=3, stride=2, padding=1)\n",
    "        self.layer1 = self._make_layer(block, 64, layers[0])\n",
    "        self.layer2 = self._make_layer(block, 128, layers[1], stride=2)\n",
    "        self.layer3 = self._make_layer(block, 256, layers[2], stride=2)\n",
    "        self.layer4 = self._make_layer(block, 512, layers[3], stride=2)\n",
    "        self.avgpool = nn.AdaptiveAvgPool2d((1, 1))\n",
    "        self.fc = nn.Linear(512 * block.expansion, num_classes)\n",
    "\n",
    "    def _make_layer(self, block, out_channels, blocks, stride=1):\n",
    "        layers = []\n",
    "        layers.append(block(self.in_channels, out_channels, stride))\n",
    "        self.in_channels = out_channels * block.expansion\n",
    "        for _ in range(1, blocks):\n",
    "            layers.append(block(self.in_channels, out_channels))\n",
    "        return nn.Sequential(*layers)\n",
    "\n",
    "    def forward(self, x):\n",
    "        x = self.conv1(x)\n",
    "        x = self.bn1(x)\n",
    "        x = self.relu(x)\n",
    "        x = self.maxpool(x)\n",
    "\n",
    "        x = self.layer1(x)\n",
    "        x = self.layer2(x)\n",
    "        x = self.layer3(x)\n",
    "        x = self.layer4(x)\n",
    "\n",
    "        x = self.avgpool(x)\n",
    "        x = x.view(x.size(0), -1)\n",
    "        x = self.fc(x)\n",
    "        return x\n"
   ]
  },
  {
   "cell_type": "code",
   "execution_count": 8,
   "metadata": {
    "id": "xtJDoF0_NBbc"
   },
   "outputs": [],
   "source": [
    "class ResidualBlock(nn.Module):\n",
    "    def __init__(self, in_channels, out_channels, stride=1):\n",
    "        super(ResidualBlock, self).__init()\n",
    "        self.conv1 = nn.Conv3d(in_channels, out_channels, kernel_size=3, stride=stride, padding=1, bias=False)\n",
    "        self.bn1 = nn.BatchNorm2d(out_channels)\n",
    "        self.relu = nn.ReLU(inplace=True)\n",
    "        self.conv2 = nn.Conv3d(out_channels, out_channels, kernel_size=3, stride=1, padding=1, bias=False)\n",
    "        self.bn2 = nn.BatchNorm2d(out_channels)\n",
    "\n",
    "    def forward(self, x):\n",
    "        residual = x\n",
    "\n",
    "        out = self.conv1(x)\n",
    "        out = self.bn1(out)\n",
    "        out = self.relu(out)\n",
    "\n",
    "        out = self.conv2(out)\n",
    "        out = self.bn2(out)\n",
    "\n",
    "        out += residual\n",
    "        out = self.relu(out)\n",
    "\n",
    "        return out\n"
   ]
  },
  {
   "cell_type": "code",
   "execution_count": null,
   "metadata": {},
   "outputs": [],
   "source": []
  }
 ],
 "metadata": {
  "colab": {
   "authorship_tag": "ABX9TyPKQxXZ3M9lIhRrkIj+pRMn",
   "provenance": [],
   "toc_visible": true
  },
  "kernelspec": {
   "display_name": "Python 3 (ipykernel)",
   "language": "python",
   "name": "python3"
  },
  "language_info": {
   "codemirror_mode": {
    "name": "ipython",
    "version": 3
   },
   "file_extension": ".py",
   "mimetype": "text/x-python",
   "name": "python",
   "nbconvert_exporter": "python",
   "pygments_lexer": "ipython3",
   "version": "3.11.5"
  }
 },
 "nbformat": 4,
 "nbformat_minor": 1
}
